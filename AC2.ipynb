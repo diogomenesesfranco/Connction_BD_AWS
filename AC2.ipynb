{
  "nbformat": 4,
  "nbformat_minor": 0,
  "metadata": {
    "colab": {
      "provenance": []
    },
    "kernelspec": {
      "name": "python3",
      "display_name": "Python 3"
    },
    "language_info": {
      "name": "python"
    }
  },
  "cells": [
    {
      "cell_type": "code",
      "source": [
        "# Aluno: Diogo Meneses Franco\n",
        "# RA: 2202455  "
      ],
      "metadata": {
        "id": "1BgWNb7Olf-a"
      },
      "execution_count": null,
      "outputs": []
    },
    {
      "cell_type": "code",
      "execution_count": null,
      "metadata": {
        "id": "1zPR-p9nU8uw"
      },
      "outputs": [],
      "source": [
        "%%sh\n",
        "sudo pip install pyodbc\n",
        "sudo pip install sqlalchemy\n",
        "sudo pip install pymysql\n",
        "sudo pip install mysqlclient"
      ]
    },
    {
      "cell_type": "code",
      "source": [
        "# criando conexao com o servidor\n",
        "import sqlalchemy,pyodbc, pandas as pd\n",
        "servidor = 'engenharia-dados2.cyzjodyfg09f.us-east-1.rds.amazonaws.com'\n",
        "usuario = 'aluno'\n",
        "senha = 'aluno123'\n",
        "string_conexao = f'mysql://{usuario}:{senha}@{servidor}'\n",
        "engine = sqlalchemy.create_engine(string_conexao)\n",
        "engine.connect()\n"
      ],
      "metadata": {
        "id": "zXUt2ESeVTQZ"
      },
      "execution_count": null,
      "outputs": []
    },
    {
      "cell_type": "code",
      "source": [
        "#criando conexão com o banco de dados\n",
        "database = 'engenharia_dados'\n",
        "string_conexao = f'mysql://{usuario}:{senha}@{servidor}/{database}'\n",
        "engine = sqlalchemy.create_engine(string_conexao)\n",
        "engine.connect()"
      ],
      "metadata": {
        "id": "avP1L04hVl59"
      },
      "execution_count": null,
      "outputs": []
    },
    {
      "cell_type": "code",
      "source": [
        "# ler arquivos csv com pandas\n",
        "df_cidade = pd.read_csv(filepath_or_buffer=\"CIDADE.csv\")\n",
        "df_cidade\n"
      ],
      "metadata": {
        "id": "-f1W1K2qbL56"
      },
      "execution_count": null,
      "outputs": []
    },
    {
      "cell_type": "code",
      "source": [
        "df_estado = pd.read_csv(filepath_or_buffer=\"ESTADO.csv\")\n",
        "df_estado"
      ],
      "metadata": {
        "id": "F9NDt6e5bt-f"
      },
      "execution_count": null,
      "outputs": []
    },
    {
      "cell_type": "code",
      "source": [
        "df_pais = pd.read_csv(filepath_or_buffer=\"PAIS.csv\")\n",
        "df_pais"
      ],
      "metadata": {
        "id": "VYoSJvpNb3oZ"
      },
      "execution_count": null,
      "outputs": []
    },
    {
      "cell_type": "code",
      "source": [
        "# gravar os arquivos csv no banco de dados\n",
        "df_cidade.to_sql('CIDADE',engine,if_exists=\"replace\")"
      ],
      "metadata": {
        "id": "kDGpM0QWcAaT"
      },
      "execution_count": null,
      "outputs": []
    },
    {
      "cell_type": "code",
      "source": [
        "\n",
        "df_estado.to_sql('ESTADO',engine,if_exists=\"replace\")"
      ],
      "metadata": {
        "id": "14vF-thodZ5e"
      },
      "execution_count": null,
      "outputs": []
    },
    {
      "cell_type": "code",
      "source": [
        "df_pais.to_sql('PAIS',engine,if_exists=\"replace\")"
      ],
      "metadata": {
        "id": "3VbMip4jdmfF"
      },
      "execution_count": null,
      "outputs": []
    },
    {
      "cell_type": "code",
      "source": [
        "# ler dados do banco\n",
        "df_bd_cidade = pd.read_sql('CIDADE',engine)\n",
        "df_bd_cidade"
      ],
      "metadata": {
        "id": "99miIoKNdrde"
      },
      "execution_count": null,
      "outputs": []
    },
    {
      "cell_type": "code",
      "source": [
        "df_bd_estado = pd.read_sql('ESTADO',engine)\n",
        "df_bd_estado"
      ],
      "metadata": {
        "id": "S66PtO_Gd56_"
      },
      "execution_count": null,
      "outputs": []
    },
    {
      "cell_type": "code",
      "source": [
        "df_bd_pais = pd.read_sql('PAIS',engine)\n",
        "df_pais"
      ],
      "metadata": {
        "id": "rbFCutWpeFpB"
      },
      "execution_count": null,
      "outputs": []
    },
    {
      "cell_type": "code",
      "source": [
        "# fazer conexão com outro banco de dados do servidor\n",
        "database2 = 'AC2'\n",
        "string_conexao2 = f'mysql://{usuario}:{senha}@{servidor}/{database2}'\n",
        "engine2 = sqlalchemy.create_engine(string_conexao2)\n",
        "engine2.connect()"
      ],
      "metadata": {
        "id": "bAMUBxNTeOkQ"
      },
      "execution_count": null,
      "outputs": []
    },
    {
      "cell_type": "code",
      "source": [
        "# ler banco de dados\n",
        "df_time = pd.read_sql('TIME',engine2)\n",
        "df_time"
      ],
      "metadata": {
        "id": "JDYWqqgYeiko"
      },
      "execution_count": null,
      "outputs": []
    },
    {
      "cell_type": "code",
      "source": [
        "# envia tabela do banco para csv\n",
        "df_time.to_csv('/content/TIME.csv')\n",
        "df_time"
      ],
      "metadata": {
        "id": "apxTBg01iiou"
      },
      "execution_count": null,
      "outputs": []
    }
  ]
}